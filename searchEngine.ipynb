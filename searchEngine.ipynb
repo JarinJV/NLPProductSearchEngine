{
 "cells": [
  {
   "cell_type": "code",
   "execution_count": 1,
   "metadata": {},
   "outputs": [],
   "source": [
    "# Search Engine Machanishm using NLP"
   ]
  },
  {
   "cell_type": "markdown",
   "metadata": {},
   "source": [
    "# Packages installation\n",
    " pip install pandas nltk gensim spacy scikit-learn matplotlib\n",
    " \n",
    " python -m spacy download en_core_web_sm"
   ]
  },
  {
   "cell_type": "markdown",
   "metadata": {},
   "source": [
    "# Load the Data"
   ]
  },
  {
   "cell_type": "code",
   "execution_count": 17,
   "metadata": {},
   "outputs": [
    {
     "data": {
      "text/html": [
       "<div>\n",
       "<style scoped>\n",
       "    .dataframe tbody tr th:only-of-type {\n",
       "        vertical-align: middle;\n",
       "    }\n",
       "\n",
       "    .dataframe tbody tr th {\n",
       "        vertical-align: top;\n",
       "    }\n",
       "\n",
       "    .dataframe thead th {\n",
       "        text-align: right;\n",
       "    }\n",
       "</style>\n",
       "<table border=\"1\" class=\"dataframe\">\n",
       "  <thead>\n",
       "    <tr style=\"text-align: right;\">\n",
       "      <th></th>\n",
       "      <th>ReviewID</th>\n",
       "      <th>ProductID</th>\n",
       "      <th>ProductName</th>\n",
       "      <th>Brand</th>\n",
       "      <th>Category</th>\n",
       "      <th>ReviewText</th>\n",
       "      <th>Rating</th>\n",
       "    </tr>\n",
       "  </thead>\n",
       "  <tbody>\n",
       "    <tr>\n",
       "      <th>0</th>\n",
       "      <td>1</td>\n",
       "      <td>101</td>\n",
       "      <td>Laptop Pro</td>\n",
       "      <td>BrandA</td>\n",
       "      <td>Electronics</td>\n",
       "      <td>\"I love this Laptop Pro, it's fantastic for wo...</td>\n",
       "      <td>5</td>\n",
       "    </tr>\n",
       "    <tr>\n",
       "      <th>1</th>\n",
       "      <td>2</td>\n",
       "      <td>102</td>\n",
       "      <td>SmartWatch X</td>\n",
       "      <td>BrandB</td>\n",
       "      <td>Wearables</td>\n",
       "      <td>\"The SmartWatch X is a great gadget with many ...</td>\n",
       "      <td>4</td>\n",
       "    </tr>\n",
       "    <tr>\n",
       "      <th>2</th>\n",
       "      <td>3</td>\n",
       "      <td>103</td>\n",
       "      <td>Noise Cancelling Headphones</td>\n",
       "      <td>BrandC</td>\n",
       "      <td>Audio</td>\n",
       "      <td>\"These headphones block out all noise, highly ...</td>\n",
       "      <td>5</td>\n",
       "    </tr>\n",
       "    <tr>\n",
       "      <th>3</th>\n",
       "      <td>4</td>\n",
       "      <td>104</td>\n",
       "      <td>4K Monitor</td>\n",
       "      <td>BrandD</td>\n",
       "      <td>Displays</td>\n",
       "      <td>\"The 4K Monitor has a stunning display, perfec...</td>\n",
       "      <td>5</td>\n",
       "    </tr>\n",
       "    <tr>\n",
       "      <th>4</th>\n",
       "      <td>5</td>\n",
       "      <td>105</td>\n",
       "      <td>Wireless Earbuds</td>\n",
       "      <td>BrandE</td>\n",
       "      <td>Audio</td>\n",
       "      <td>\"Wireless Earbuds are convenient, but the batt...</td>\n",
       "      <td>3</td>\n",
       "    </tr>\n",
       "  </tbody>\n",
       "</table>\n",
       "</div>"
      ],
      "text/plain": [
       "   ReviewID  ProductID                  ProductName   Brand     Category  \\\n",
       "0         1        101                   Laptop Pro  BrandA  Electronics   \n",
       "1         2        102                 SmartWatch X  BrandB    Wearables   \n",
       "2         3        103  Noise Cancelling Headphones  BrandC        Audio   \n",
       "3         4        104                   4K Monitor  BrandD     Displays   \n",
       "4         5        105             Wireless Earbuds  BrandE        Audio   \n",
       "\n",
       "                                          ReviewText  Rating  \n",
       "0  \"I love this Laptop Pro, it's fantastic for wo...       5  \n",
       "1  \"The SmartWatch X is a great gadget with many ...       4  \n",
       "2  \"These headphones block out all noise, highly ...       5  \n",
       "3  \"The 4K Monitor has a stunning display, perfec...       5  \n",
       "4  \"Wireless Earbuds are convenient, but the batt...       3  "
      ]
     },
     "execution_count": 17,
     "metadata": {},
     "output_type": "execute_result"
    }
   ],
   "source": [
    "import pandas as pd\n",
    "\n",
    "df = pd.read_csv('product_review.csv')\n",
    "\n",
    "df.head()"
   ]
  },
  {
   "cell_type": "markdown",
   "metadata": {},
   "source": [
    "# Standardizing Customer Feedback for Analysis\n",
    "We'll clean the ReviewText column by converting text to lowercase, removing punctuation, and tokenizing it. We'll also calculate the total number of words and identify the most frequently mentioned word."
   ]
  },
  {
   "cell_type": "code",
   "execution_count": 41,
   "metadata": {},
   "outputs": [
    {
     "data": {
      "text/plain": [
       "(318, 'but', 21)"
      ]
     },
     "execution_count": 41,
     "metadata": {},
     "output_type": "execute_result"
    }
   ],
   "source": [
    "import re\n",
    "from nltk.tokenize import word_tokenize\n",
    "from collections import Counter\n",
    "\n",
    "# Clean and tokenize the reviews\n",
    "def clean_and_tokenize(reviews):\n",
    "    cleaned_reviews = []\n",
    "    for review in reviews:\n",
    "        # Convert to lowercase\n",
    "        review = review.lower()\n",
    "        # Remove punctuation and special characters\n",
    "        review = re.sub(r'[^\\w\\s]', '', review)\n",
    "        # Tokenize the review\n",
    "        tokens = word_tokenize(review)\n",
    "        cleaned_reviews.extend(tokens)\n",
    "    return cleaned_reviews\n",
    "\n",
    "# Apply the cleaning function to the ReviewText column\n",
    "tokens = clean_and_tokenize(df['ReviewText'])\n",
    "\n",
    "# Calculate the total number of words\n",
    "total_words = len(tokens)\n",
    "\n",
    "# Identify the most frequently mentioned word and its frequency\n",
    "most_common_word, frequency = Counter(tokens).most_common(1)[0]\n",
    "\n",
    "# Display the results\n",
    "total_words, most_common_word, frequency"
   ]
  },
  {
   "cell_type": "markdown",
   "metadata": {},
   "source": [
    "# Edit Distance for Product Name Correction\n",
    "We'll use the ProductName column to suggest corrections based on edit distance."
   ]
  },
  {
   "cell_type": "code",
   "execution_count": 49,
   "metadata": {},
   "outputs": [
    {
     "data": {
      "text/plain": [
       "('Laptop Pro', 2)"
      ]
     },
     "execution_count": 49,
     "metadata": {},
     "output_type": "execute_result"
    }
   ],
   "source": [
    "from nltk.metrics import edit_distance\n",
    "\n",
    "# Function to suggest the closest product name\n",
    "def suggest_product(search_query, products, threshold=2):\n",
    "    min_distance = float('inf')\n",
    "    suggested_product = None\n",
    "    \n",
    "    for product in products:\n",
    "        distance = edit_distance(search_query, product)\n",
    "        if distance < min_distance and distance <= threshold:\n",
    "            min_distance = distance\n",
    "            suggested_product = product\n",
    "    \n",
    "    return suggested_product, min_distance\n",
    "\n",
    "# Example search query and product names\n",
    "search_query = \"Lapop Ppo\"  \n",
    "product_names = df['ProductName'].unique()\n",
    "\n",
    "# Suggest the closest product\n",
    "suggested_product, min_distance = suggest_product(search_query, product_names)\n",
    "\n",
    "# Display the result\n",
    "suggested_product, min_distance"
   ]
  },
  {
   "cell_type": "markdown",
   "metadata": {},
   "source": [
    "# N-gram Language Model for Product Recommendations\n",
    "We'll build a bigram language model using the ReviewText column and predict the next word in a sequence."
   ]
  },
  {
   "cell_type": "code",
   "execution_count": 34,
   "metadata": {},
   "outputs": [
    {
     "data": {
      "text/plain": [
       "'pro'"
      ]
     },
     "execution_count": 34,
     "metadata": {},
     "output_type": "execute_result"
    }
   ],
   "source": [
    "from nltk import bigrams, FreqDist\n",
    "from collections import defaultdict\n",
    "\n",
    "# Tokenize and build bigrams from the ReviewText\n",
    "tokenized_reviews = [word_tokenize(re.sub(r'[^\\w\\s]', '', review.lower())) for review in df['ReviewText']]\n",
    "bigram_model = defaultdict(lambda: defaultdict(lambda: 0))\n",
    "\n",
    "# Count frequency of bigrams\n",
    "for sentence in tokenized_reviews:\n",
    "    for w1, w2 in bigrams(sentence):\n",
    "        bigram_model[w1][w2] += 1\n",
    "\n",
    "# Convert counts to probabilities\n",
    "for w1 in bigram_model:\n",
    "    total_count = float(sum(bigram_model[w1].values()))\n",
    "    for w2 in bigram_model[w1]:\n",
    "        bigram_model[w1][w2] /= total_count\n",
    "\n",
    "# Predict the next word given a word\n",
    "def predict_next_word(current_word, model):\n",
    "    next_words = model[current_word]\n",
    "    if next_words:\n",
    "        predicted_word = max(next_words, key=next_words.get)\n",
    "        return predicted_word\n",
    "    else:\n",
    "        return None\n",
    "\n",
    "# Example prediction\n",
    "predict_next_word('laptop', bigram_model)"
   ]
  },
  {
   "cell_type": "markdown",
   "metadata": {},
   "source": [
    "# Named Entity Recognition (NER) for Reviews\n",
    "We'll use spacy to identify entities such as product names and brands in the ReviewText."
   ]
  },
  {
   "cell_type": "code",
   "execution_count": 35,
   "metadata": {},
   "outputs": [
    {
     "name": "stdout",
     "output_type": "stream",
     "text": [
      "Review 1 entities: [('this Laptop Pro', 'EVENT')]\n",
      "Review 2 entities: [('The SmartWatch X', 'WORK_OF_ART')]\n",
      "Review 3 entities: []\n",
      "Review 4 entities: [('4', 'CARDINAL')]\n",
      "Review 5 entities: [('Wireless Earbuds', 'WORK_OF_ART')]\n"
     ]
    }
   ],
   "source": [
    "import spacy\n",
    "\n",
    "# Load the English NER model\n",
    "nlp = spacy.load(\"en_core_web_sm\")\n",
    "\n",
    "# Apply NER to the ReviewText column\n",
    "def extract_entities(reviews):\n",
    "    entities_list = []\n",
    "    for review in reviews:\n",
    "        doc = nlp(review)\n",
    "        entities = [(ent.text, ent.label_) for ent in doc.ents]\n",
    "        entities_list.append(entities)\n",
    "    return entities_list\n",
    "\n",
    "# Extract entities from the reviews\n",
    "entities_in_reviews = extract_entities(df['ReviewText'])\n",
    "\n",
    "# Display the extracted entities for the first few reviews\n",
    "for i, entities in enumerate(entities_in_reviews[:5]):\n",
    "    print(f\"Review {i+1} entities: {entities}\")"
   ]
  },
  {
   "cell_type": "markdown",
   "metadata": {},
   "source": [
    "# Cosine Similarity and Word Embeddings for Similar Products\n",
    "We'll create word embeddings using gensim and calculate cosine similarity between product names based on their descriptions."
   ]
  },
  {
   "cell_type": "code",
   "execution_count": 79,
   "metadata": {},
   "outputs": [
    {
     "data": {
      "text/plain": [
       "array([[1.        , 0.01381512],\n",
       "       [0.01381512, 1.0000002 ]], dtype=float32)"
      ]
     },
     "execution_count": 79,
     "metadata": {},
     "output_type": "execute_result"
    }
   ],
   "source": [
    "import gensim\n",
    "from sklearn.metrics.pairwise import cosine_similarity\n",
    "import numpy as np\n",
    "from sklearn.decomposition import PCA\n",
    "import matplotlib.pyplot as plt\n",
    "\n",
    "# Tokenize the ReviewText for word2vec model training\n",
    "tokenized_descriptions = [review.lower().split() for review in df['ReviewText']]\n",
    "\n",
    "# Build word2vec model\n",
    "model = gensim.models.Word2Vec(sentences=tokenized_descriptions, vector_size=100, window=5, min_count=1, workers=4)\n",
    "\n",
    "# Get vectors for product names\n",
    "product_vectors = np.array([model.wv[word] for word in [\"laptop\", \"smart\"]])\n",
    "\n",
    "# Calculate cosine similarity\n",
    "similarity_matrix = cosine_similarity(product_vectors)\n",
    "\n",
    "# Display similarity matrix\n",
    "similarity_matrix"
   ]
  },
  {
   "cell_type": "code",
   "execution_count": 84,
   "metadata": {},
   "outputs": [
    {
     "data": {
      "image/png": "[encoded data removed]",
      "text/plain": [
       "<Figure size 800x800 with 1 Axes>"
      ]
     },
     "metadata": {},
     "output_type": "display_data"
    }
   ],
   "source": [
    "# Visualize word embeddings with reduced label distance\n",
    "def visualize_embeddings(words):\n",
    "    word_vectors = np.array([model.wv[word] for word in words])\n",
    "    pca = PCA(n_components=2)\n",
    "    word_vecs_2d = pca.fit_transform(word_vectors)\n",
    "    \n",
    "    plt.figure(figsize=(8, 8))\n",
    "    for i, word in enumerate(words):\n",
    "        plt.scatter(word_vecs_2d[i, 0], word_vecs_2d[i, 1])\n",
    "        plt.text(word_vecs_2d[i, 0] + 0.0005, word_vecs_2d[i, 1] + 0.0005, word, fontsize=9)\n",
    "    plt.show()\n",
    "\n",
    "# Example visualization\n",
    "visualize_embeddings([\"laptop\", \"mouse\", \"tablet\", \"speaker\"])"
   ]
  },
  {
   "cell_type": "markdown",
   "metadata": {},
   "source": [
    "---"
   ]
  },
  {
   "cell_type": "markdown",
   "metadata": {},
   "source": [
    "# Application - Search Engine"
   ]
  },
  {
   "cell_type": "markdown",
   "metadata": {},
   "source": [
    "This Tkinter-based search engine application provides a user-friendly interface for exploring products based on various NLP techniques. Here’s a brief overview of its functionalities:\n",
    "\n",
    "1. **Product Search with Suggestions:**\n",
    "\n",
    "* Input: User types a query in the search box.\n",
    "* Functionality: The application provides suggestions based on the most common words found in product reviews.\n",
    "* Outcome: Displays a dropdown list of suggestions matching the user's input.\n",
    "\n",
    "2. **Product Name Correction:**\n",
    "\n",
    "* Input: User submits a search query.\n",
    "* Functionality: Uses edit distance to suggest the closest correct product name from the available options.\n",
    "* Outcome: The closest match is suggested and automatically filled into the search box.\n",
    "\n",
    "3. **Predict Next Word:**\n",
    "\n",
    "* Input: (Implicit) Based on the corrected or suggested product name.\n",
    "* Functionality: Predicts the next likely word in the product name using bigram probabilities.\n",
    "* Outcome: Useful for autocomplete features (not directly shown in this version).\n",
    "\n",
    "4. **Display Searched Products:**\n",
    "\n",
    "* Input: User submits a search query.\n",
    "* Functionality: Searches the product database and displays matching products in a table format.\n",
    "* Outcome: Shows product details (ID, name, brand, category, and rating) in a table.\n",
    "\n",
    "5. **Related Products Based on Similarity:**\n",
    "\n",
    "* Input: User submits a search query.\n",
    "* Functionality: Uses cosine similarity on word embeddings to find and list products related to the search term.\n",
    "* Outcome: Displays a list of related products"
   ]
  },
  {
   "cell_type": "code",
   "execution_count": 105,
   "metadata": {},
   "outputs": [],
   "source": [
    "import pandas as pd\n",
    "import re\n",
    "from nltk.tokenize import word_tokenize\n",
    "from collections import Counter, defaultdict\n",
    "from nltk.metrics import edit_distance\n",
    "import gensim\n",
    "from sklearn.metrics.pairwise import cosine_similarity\n",
    "from sklearn.decomposition import PCA\n",
    "import numpy as np\n",
    "import spacy\n",
    "from tkinter import *\n",
    "from tkinter import ttk\n",
    "\n",
    "# Load the dataset\n",
    "df = pd.read_csv('product_review.csv')\n",
    "\n",
    "# Tokenize and clean review texts\n",
    "def clean_and_tokenize(reviews):\n",
    "    cleaned_reviews = []\n",
    "    for review in reviews:\n",
    "        review = review.lower()\n",
    "        review = re.sub(r'[^\\w\\s]', '', review)\n",
    "        tokens = word_tokenize(review)\n",
    "        cleaned_reviews.extend(tokens)\n",
    "    return cleaned_reviews\n",
    "\n",
    "tokens = clean_and_tokenize(df['ReviewText'])\n",
    "\n",
    "# Find most common words\n",
    "common_words = Counter(tokens).most_common()\n",
    "\n",
    "# Build Word2Vec model\n",
    "tokenized_descriptions = [review.lower().split() for review in df['ReviewText']]\n",
    "model = gensim.models.Word2Vec(sentences=tokenized_descriptions, vector_size=100, window=5, min_count=1, workers=4)\n",
    "\n",
    "# Build bigram model\n",
    "bigram_model = defaultdict(lambda: defaultdict(lambda: 0))\n",
    "for sentence in tokenized_descriptions:\n",
    "    for w1, w2 in bigrams(sentence):\n",
    "        bigram_model[w1][w2] += 1\n",
    "for w1 in bigram_model:\n",
    "    total_count = float(sum(bigram_model[w1].values()))\n",
    "    for w2 in bigram_model[w1]:\n",
    "        bigram_model[w1][w2] /= total_count\n",
    "\n",
    "# Load spaCy NER model\n",
    "nlp = spacy.load(\"en_core_web_sm\")\n",
    "\n",
    "# Function to predict next word\n",
    "def predict_next_word(current_word, model):\n",
    "    next_words = model[current_word]\n",
    "    if next_words:\n",
    "        predicted_word = max(next_words, key=next_words.get)\n",
    "        return predicted_word\n",
    "    return None\n",
    "\n",
    "# Function to suggest closest product name\n",
    "def suggest_product(search_query, products, threshold=2):\n",
    "    min_distance = float('inf')\n",
    "    suggested_product = None\n",
    "    for product in products:\n",
    "        distance = edit_distance(search_query, product)\n",
    "        if distance < min_distance and distance <= threshold:\n",
    "            min_distance = distance\n",
    "            suggested_product = product\n",
    "    return suggested_product, min_distance"
   ]
  },
  {
   "cell_type": "code",
   "execution_count": 108,
   "metadata": {},
   "outputs": [],
   "source": [
    "# Create the main application window\n",
    "root = Tk()\n",
    "root.title(\"Product Search and Recommendation\")\n",
    "\n",
    "# Set up frames\n",
    "frame_search = Frame(root)\n",
    "frame_search.pack(pady=10)\n",
    "\n",
    "frame_results = Frame(root)\n",
    "frame_results.pack(pady=10)\n",
    "\n",
    "frame_related = Frame(root)\n",
    "frame_related.pack(pady=10)\n",
    "\n",
    "# Function to update search suggestions\n",
    "def update_suggestions(event):\n",
    "    search_query = entry_search.get()\n",
    "    suggestions = [word for word, _ in common_words if word.startswith(search_query.lower())]\n",
    "    listbox_suggestions.delete(0, END)\n",
    "    for suggestion in suggestions:\n",
    "        listbox_suggestions.insert(END, suggestion)\n",
    "\n",
    "# Function to handle product search\n",
    "def handle_search():\n",
    "    search_query = entry_search.get()\n",
    "    suggested_product, _ = suggest_product(search_query, df['ProductName'].unique())\n",
    "    if suggested_product:\n",
    "        entry_search.delete(0, END)\n",
    "        entry_search.insert(0, suggested_product)\n",
    "        product_name = suggested_product\n",
    "    else:\n",
    "        product_name = search_query\n",
    "\n",
    "    # Display searched product\n",
    "    for row in tree_results.get_children():\n",
    "        tree_results.delete(row)\n",
    "    matching_products = df[df['ProductName'].str.contains(product_name, case=False)]\n",
    "    for _, row in matching_products.iterrows():\n",
    "        tree_results.insert('', 'end', values=(row['ProductID'], row['ProductName'], row['Brand'], row['Category'], row['Rating']))\n",
    "\n",
    "# Set up search frame\n",
    "Label(frame_search, text=\"Search Product:\").pack(side=LEFT)\n",
    "entry_search = Entry(frame_search, width=30)\n",
    "entry_search.pack(side=LEFT)\n",
    "entry_search.bind(\"<KeyRelease>\", update_suggestions)\n",
    "Button(frame_search, text=\"Search\", command=handle_search).pack(side=LEFT)\n",
    "\n",
    "# Set up suggestion listbox\n",
    "listbox_suggestions = Listbox(frame_search, height=5)\n",
    "listbox_suggestions.pack(pady=5)\n",
    "\n",
    "# Set up results treeview\n",
    "tree_results = ttk.Treeview(frame_results, columns=(\"ProductID\", \"ProductName\", \"Brand\", \"Category\", \"Rating\"), show='headings')\n",
    "tree_results.heading(\"ProductID\", text=\"ProductID\")\n",
    "tree_results.heading(\"ProductName\", text=\"ProductName\")\n",
    "tree_results.heading(\"Brand\", text=\"Brand\")\n",
    "tree_results.heading(\"Category\", text=\"Category\")\n",
    "tree_results.heading(\"Rating\", text=\"Rating\")\n",
    "tree_results.pack()\n",
    "\n",
    "# Run the application\n",
    "root.mainloop()"
   ]
  },
  {
   "cell_type": "markdown",
   "metadata": {},
   "source": [
    "## results"
   ]
  },
  {
   "cell_type": "code",
   "execution_count": 110,
   "metadata": {},
   "outputs": [
    {
     "data": {
      "image/png": "[encoded data removed]",
      "text/plain": [
       "<IPython.core.display.Image object>"
      ]
     },
     "metadata": {},
     "output_type": "display_data"
    },
    {
     "data": {
      "image/png": "[encoded data removed]",
      "text/plain": [
       "<IPython.core.display.Image object>"
      ]
     },
     "metadata": {},
     "output_type": "display_data"
    },
    {
     "data": {
      "image/png": "[encoded data removed]",
      "text/plain": [
       "<IPython.core.display.Image object>"
      ]
     },
     "metadata": {},
     "output_type": "display_data"
    }
   ],
   "source": [
    "from IPython.display import Image, display\n",
    "display(Image(filename='search1.png'))\n",
    "display(Image(filename='search2.png'))\n",
    "display(Image(filename='search3.png'))"
   ]
  },
  {
   "cell_type": "markdown",
   "metadata": {},
   "source": [
    "---"
   ]
  }
 ],
 "metadata": {
  "kernelspec": {
   "display_name": "base",
   "language": "python",
   "name": "python3"
  },
  "language_info": {
   "codemirror_mode": {
    "name": "ipython",
    "version": 3
   },
   "file_extension": ".py",
   "mimetype": "text/x-python",
   "name": "python",
   "nbconvert_exporter": "python",
   "pygments_lexer": "ipython3",
   "version": "3.12.2"
  }
 },
 "nbformat": 4,
 "nbformat_minor": 4
}
